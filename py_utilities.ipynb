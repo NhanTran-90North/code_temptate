{
 "cells": [
  {
   "cell_type": "markdown",
   "id": "df1e8f8b",
   "metadata": {},
   "source": [
    "# Python Utilities Functions"
   ]
  },
  {
   "cell_type": "code",
   "execution_count": null,
   "id": "25ec42bf",
   "metadata": {},
   "outputs": [
    {
     "data": {
      "text/plain": [
       "'/Users/nhan.tran/Library/CloudStorage/OneDrive-Interpublic/Documents/GitHub/code_temptate'"
      ]
     },
     "execution_count": 4,
     "metadata": {},
     "output_type": "execute_result"
    }
   ],
   "source": [
    "import os, sys\n",
    "import subprocess\n",
    "\n",
    "class loc: \n",
    "    d0 = os.getcwd()\n",
    "\n"
   ]
  },
  {
   "cell_type": "markdown",
   "id": "bb9f0e10",
   "metadata": {},
   "source": [
    "## 1. Convert Jupyter Notebook to .py"
   ]
  },
  {
   "cell_type": "code",
   "execution_count": 17,
   "id": "d61d3545",
   "metadata": {},
   "outputs": [
    {
     "name": "stdout",
     "output_type": "stream",
     "text": [
      "Notebook converted and saved to: /Users/nhan.tran/Library/CloudStorage/OneDrive-Interpublic/Documents/GitHub/code_temptate/env_setup/vscode_python_setup.py\n"
     ]
    },
    {
     "data": {
      "text/plain": [
       "PosixPath('/Users/nhan.tran/Library/CloudStorage/OneDrive-Interpublic/Documents/GitHub/code_temptate/env_setup/vscode_python_setup.py')"
      ]
     },
     "execution_count": 17,
     "metadata": {},
     "output_type": "execute_result"
    }
   ],
   "source": [
    "import nbformat\n",
    "from nbconvert import PythonExporter\n",
    "from pathlib import Path\n",
    "\n",
    "def convert_notebook_to_py(notebook_path, output_path=None):\n",
    "    \"\"\"\n",
    "    Converts a Jupyter notebook to a .py script.\n",
    "\n",
    "    Args:\n",
    "        notebook_path (str or Path): Path to the .ipynb file.\n",
    "        output_path (str or Path, optional): Output .py file path. \n",
    "                                             Defaults to same name as input.\n",
    "\n",
    "    Returns:\n",
    "        Path to the saved .py script.\n",
    "    \"\"\"\n",
    "    notebook_path = Path(notebook_path)\n",
    "    output_path = Path(output_path) if output_path else notebook_path.with_suffix('.py')\n",
    "\n",
    "    with notebook_path.open('r', encoding='utf-8') as f:\n",
    "        nb_node = nbformat.read(f, as_version=4)\n",
    "\n",
    "    exporter = PythonExporter()\n",
    "    script, _ = exporter.from_notebook_node(nb_node)\n",
    "\n",
    "    with output_path.open('w', encoding='utf-8') as f:\n",
    "        f.write(script)\n",
    "\n",
    "    print(f\"Notebook converted and saved to: {output_path}\")\n",
    "    return output_path\n",
    "\n",
    "\n",
    "nb = \"vscode_python_setup.ipynb\"\n",
    "fpath = ['/'.join([root, f]) for root, dirs, files in os.walk(loc.d0) for f in files if f == nb][0]\n",
    "\n",
    "convert_notebook_to_py(fpath)"
   ]
  },
  {
   "cell_type": "code",
   "execution_count": null,
   "id": "5679bc32",
   "metadata": {},
   "outputs": [],
   "source": []
  }
 ],
 "metadata": {
  "kernelspec": {
   "display_name": "Python 3",
   "language": "python",
   "name": "python3"
  },
  "language_info": {
   "codemirror_mode": {
    "name": "ipython",
    "version": 3
   },
   "file_extension": ".py",
   "mimetype": "text/x-python",
   "name": "python",
   "nbconvert_exporter": "python",
   "pygments_lexer": "ipython3",
   "version": "3.13.3"
  }
 },
 "nbformat": 4,
 "nbformat_minor": 5
}
