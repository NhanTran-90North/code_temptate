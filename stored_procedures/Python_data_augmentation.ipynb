{
 "cells": [
  {
   "cell_type": "code",
   "execution_count": 0,
   "metadata": {},
   "outputs": [],
   "source": [
    "# -*- coding: utf-8 -*-\n",
    "import dataiku\n",
    "import pandas as pd, numpy as np\n",
    "from dataiku import pandasutils as pdu\n",
    "\n",
    "input_dataset=dataiku.Dataset(\"TEMP_PT_EPIC_concat\")\n",
    "df=input_dataset.get_dataframe()"
   ]
  },
  {
   "cell_type": "code",
   "execution_count": 0,
   "metadata": {},
   "outputs": [],
   "source": [
    "# Read recipe inputs\n",
    "Bootstrap_Samples_Folder = dataiku.Folder(\"ezIZMkOg\")\n",
    "#Bootstrap_Samples_Folder_info = Bootstrap_Samples_Folder.get_info()"
   ]
  },
  {
   "cell_type": "code",
   "execution_count": 0,
   "metadata": {},
   "outputs": [],
   "source": [
    "df.head()"
   ]
  },
  {
   "cell_type": "code",
   "execution_count": 0,
   "metadata": {},
   "outputs": [],
   "source": [
    "df.dtypes"
   ]
  },
  {
   "cell_type": "code",
   "execution_count": 0,
   "metadata": {},
   "outputs": [],
   "source": [
    "categorical_cols=df.select_dtypes(include=['object']).columns.tolist()\n",
    "categorical_cols"
   ]
  },
  {
   "cell_type": "code",
   "execution_count": 0,
   "metadata": {},
   "outputs": [],
   "source": [
    "#Filling missing values in categorical columns\n",
    "for col in categorical_cols:\n",
    "    df[col]=df[col].fillna(\"Unknown\")"
   ]
  },
  {
   "cell_type": "code",
   "execution_count": 0,
   "metadata": {},
   "outputs": [],
   "source": [
    "numeric_cols=df.select_dtypes(include=['number']).columns.tolist()\n",
    "numeric_cols"
   ]
  },
  {
   "cell_type": "code",
   "execution_count": 0,
   "metadata": {},
   "outputs": [],
   "source": [
    "for col in numeric_cols:\n",
    "    df[col]=df[col].fillna(0)"
   ]
  },
  {
   "cell_type": "code",
   "execution_count": 0,
   "metadata": {},
   "outputs": [],
   "source": [
    "from ctgan import CTGAN\n",
    "\n",
    "ctgan = CTGAN(epochs=300)\n",
    "\n",
    "# Fit the model to your data. Note CTGAN does not allow null in the input df\n",
    "\n",
    "ctgan.fit(df,discrete_columns=categorical_cols)\n",
    "\n",
    "# Generate synthetic data\n",
    "synthetic_data = ctgan.sample(1000)\n",
    "\n",
    "#print(df.shape[0], synthetic_data.shape[0])\n",
    "synthetic_data.head()"
   ]
  },
  {
   "cell_type": "code",
   "execution_count": 0,
   "metadata": {},
   "outputs": [],
   "source": [
    "synthetic_data.shape[0]"
   ]
  },
  {
   "cell_type": "code",
   "execution_count": 0,
   "metadata": {},
   "outputs": [],
   "source": [
    "#n_samples=10"
   ]
  },
  {
   "cell_type": "code",
   "execution_count": 0,
   "metadata": {},
   "outputs": [],
   "source": [
    "\"\"\"\n",
    "for i in range(n_samples):\n",
    "\n",
    "    bootstrap_sample=df.sample(n=len(df),replace=True,random_state=42+i)\n",
    "    filename=f\"bootstrap_sample_{i+1}.csv\"\n",
    "    csv_data=bootstrap_sample.to_csv(index=False)\n",
    "    csv_data_bytes=csv_data.encode('utf-8')\n",
    "    Bootstrap_Samples_Folder.upload_data(filename,csv_data_bytes)\n",
    "    print(f\"Saved {filename} with {len(bootstrap_sample)} records\")\n",
    "\n",
    "\"\"\""
   ]
  },
  {
   "cell_type": "code",
   "execution_count": 0,
   "metadata": {},
   "outputs": [],
   "source": [
    "# Write recipe outputs\n",
    "# Dataset Bootstrap_Samples_Folder_Python renamed to CTGAN_Synthetic_Samples by 3447717a on 2025-04-10 18:41:07\n",
    "Synthetic_Samples= dataiku.Dataset(\"CTGAN_Synthetic_Samples\")\n",
    "Synthetic_Samples.write_with_schema(synthetic_data)"
   ]
  }
 ],
 "metadata": {
  "associatedRecipe": "compute_Bootstrap_Samples_Folder_Python",
  "createdOn": 1743637731960,
  "creationTag": {
   "lastModifiedBy": {
    "login": "3447717a"
   },
   "lastModifiedOn": 1743637731960,
   "versionNumber": 0
  },
  "creator": "3447717a",
  "customFields": {},
  "dkuGit": {
   "lastInteraction": 0
  },
  "hide_input": false,
  "kernelspec": {
   "display_name": "Python (env DSci_CodeEnv)",
   "language": "python",
   "name": "py-dku-venv-dsci_codeenv"
  },
  "language_info": {
   "codemirror_mode": {
    "name": "ipython",
    "version": 3
   },
   "file_extension": ".py",
   "mimetype": "text/x-python",
   "name": "python",
   "nbconvert_exporter": "python",
   "pygments_lexer": "ipython3",
   "version": "3.8.8"
  },
  "modifiedBy": "E1724299",
  "tags": [
   "recipe-editor"
  ]
 },
 "nbformat": 4,
 "nbformat_minor": 1
}
