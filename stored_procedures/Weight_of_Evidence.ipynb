{
 "cells": [
  {
   "cell_type": "code",
   "execution_count": 0,
   "metadata": {},
   "outputs": [],
   "source": [
    "# -*- coding: utf-8 -*-\n",
    "import dataiku\n",
    "import pandas as pd, numpy as np\n",
    "from dataiku import pandasutils as pdu\n",
    "\n",
    "# Read recipe inputs\n",
    "TEMP_PT_EPIC_concat = dataiku.Dataset(\"TEMP_PT_EPIC_concat\")\n",
    "df = TEMP_PT_EPIC_concat.get_dataframe()\n",
    "df.head()\n",
    "\n",
    "\n"
   ]
  },
  {
   "cell_type": "code",
   "execution_count": 0,
   "metadata": {},
   "outputs": [],
   "source": [
    "from sklearn.base import BaseEstimator,TransformerMixin\n",
    "import numpy as np\n",
    "import pandas as pd"
   ]
  },
  {
   "cell_type": "code",
   "execution_count": 0,
   "metadata": {},
   "outputs": [],
   "source": [
    "X=df.drop(['IsNonPromoter','ISPROMOTER','EncounterKey','EncounterEpicCsn','PrimaryMrn'],axis=1)\n",
    "y=df['IsNonPromoter']"
   ]
  },
  {
   "cell_type": "code",
   "execution_count": 0,
   "metadata": {},
   "outputs": [],
   "source": [
    "cat_cols=X.select_dtypes(include='object').columns\n",
    "\n",
    "epsilon=1e-4\n",
    "total_events=y.sum()\n",
    "total_non_events=len(y)-total_events"
   ]
  },
  {
   "cell_type": "code",
   "execution_count": 0,
   "metadata": {},
   "outputs": [],
   "source": [
    "cat_transformed=pd.DataFrame()"
   ]
  },
  {
   "cell_type": "code",
   "execution_count": 0,
   "metadata": {},
   "outputs": [],
   "source": [
    "# https://www.analyticsvidhya.com/blog/2021/06/understand-weight-of-evidence-and-information-value/\n",
    "# https://medium.com/@mailtoanupammaiti/weight-of-evidence-woe-and-information-value-iv-893635d1423c\n",
    "\n",
    "for col in cat_cols:\n",
    "    woe_mapping={}\n",
    "    for category in X[col].unique():\n",
    "        mask=(X[col]==category)\n",
    "        events=y[mask].sum()\n",
    "        non_events=mask.sum()-events\n",
    "        event_rate=events/total_events if total_events>0 else epsilon\n",
    "        non_event_rate=non_events/total_non_events if total_non_events>0 else epsilon\n",
    "        woe_value=np.log((non_event_rate+epsilon)/(event_rate+epsilon))\n",
    "        woe_mapping[category]=woe_value\n",
    "    cat_transformed[col+'_woe']=X[col].map(woe_mapping)"
   ]
  },
  {
   "cell_type": "code",
   "execution_count": 0,
   "metadata": {},
   "outputs": [],
   "source": [
    "cat_transformed"
   ]
  },
  {
   "cell_type": "code",
   "execution_count": 0,
   "metadata": {},
   "outputs": [],
   "source": [
    "num_cols=X.select_dtypes(include='number').columns\n",
    "num_transformed=pd.DataFrame()"
   ]
  },
  {
   "cell_type": "code",
   "execution_count": 0,
   "metadata": {},
   "outputs": [],
   "source": [
    "for col in num_cols:\n",
    "    unique_vals=X[col].unique()\n",
    "    \n",
    "    if len(unique_vals)==2:\n",
    "        norm=X[col]\n",
    "    else:\n",
    "     col_min=X[col].min()\n",
    "     col_max=X[col].max()\n",
    "     range_val=col_max-col_min\n",
    "     norm=(X[col]-col_min)/range_val if range_val!=0 else 0\n",
    "    num_transformed[col+'_norm_weight']=norm"
   ]
  },
  {
   "cell_type": "code",
   "execution_count": 0,
   "metadata": {},
   "outputs": [],
   "source": [
    "num_transformed"
   ]
  },
  {
   "cell_type": "code",
   "execution_count": 0,
   "metadata": {},
   "outputs": [],
   "source": [
    "final_df=pd.concat([cat_transformed,num_transformed],axis=1)\n",
    "final_df['IsNonPromoter']=df['IsNonPromoter']\n",
    "final_df.head()"
   ]
  },
  {
   "cell_type": "code",
   "execution_count": 0,
   "metadata": {},
   "outputs": [],
   "source": [
    "# Compute recipe outputs from inputs\n",
    "# TODO: Replace this part by your actual code that computes the output, as a Pandas dataframe\n",
    "# NB: DSS also supports other kinds of APIs for reading and writing data. Please see doc.\n",
    "\n",
    "TEMP_PT_EPIC_concat_w_df = df # For this sample code, simply copy input to output\n",
    "\n",
    "\n",
    "# Write recipe outputs\n",
    "TEMP_PT_EPIC_concat_w = dataiku.Dataset(\"TEMP_PT_EPIC_concat_w\")\n",
    "TEMP_PT_EPIC_concat_w.write_with_schema(final_df)"
   ]
  },
  {
   "cell_type": "code",
   "execution_count": 0,
   "metadata": {},
   "outputs": [],
   "source": []
  }
 ],
 "metadata": {
  "createdOn": 1744750296786,
  "creator": "3447717a",
  "customFields": {},
  "hide_input": false,
  "kernelspec": {
   "display_name": "Python (env DSci_CodeEnv)",
   "language": "python",
   "name": "py-dku-venv-dsci_codeenv"
  },
  "language_info": {
   "codemirror_mode": {
    "name": "ipython",
    "version": 3
   },
   "file_extension": ".py",
   "mimetype": "text/x-python",
   "name": "python",
   "nbconvert_exporter": "python",
   "pygments_lexer": "ipython3",
   "version": "3.8.8"
  },
  "modifiedBy": "E1724299",
  "tags": []
 },
 "nbformat": 4,
 "nbformat_minor": 1
}
