{
 "cells": [
  {
   "cell_type": "markdown",
   "id": "b3e9f0d2",
   "metadata": {},
   "source": [
    "# Exercise 1\n",
    "\n",
    "https://pandas.pydata.org/pandas-docs/stable/user_guide/io.html\n",
    "\n",
    "https://pandas.pydata.org/pandas-docs/stable/user_guide/basics.html\n",
    "\n",
    "1. Import the Pandas library for the exercise.\n",
    "2. Use Pandas reader functions to load the following dataset\n",
    "    - https://data.cdc.gov/resource/m74n-4hbs.csv\n",
    "\t- Try out the parameters within the reader functions\n",
    "3. Use 4 of the Pandas functions provided below to explore the data:\n",
    "    - df.info()\n",
    "    - df.describe()\n",
    "    - series.unique()\n",
    "    - series.nunique()\n",
    "    - df.nunique()\n",
    "    - series.value_counts()\n",
    "4. Submit the practice notebook (ipynb file) with your name in the filename provided below: \n",
    "    - \\\\\\\\mh.org\\\\Public\\\\CO\\\\CO - DSci Python Community\\\\Training\\\\Python_101_Summer2023\\\\Exercises\n",
    "    "
   ]
  },
  {
   "cell_type": "code",
   "execution_count": null,
   "id": "57b650b3",
   "metadata": {},
   "outputs": [],
   "source": []
  }
 ],
 "metadata": {
  "kernelspec": {
   "display_name": "Python 3",
   "language": "python",
   "name": "python3"
  },
  "language_info": {
   "codemirror_mode": {
    "name": "ipython",
    "version": 3
   },
   "file_extension": ".py",
   "mimetype": "text/x-python",
   "name": "python",
   "nbconvert_exporter": "python",
   "pygments_lexer": "ipython3",
   "version": "3.8.8"
  }
 },
 "nbformat": 4,
 "nbformat_minor": 5
}
