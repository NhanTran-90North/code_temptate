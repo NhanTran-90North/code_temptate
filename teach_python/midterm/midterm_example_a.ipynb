{
 "cells": [
  {
   "cell_type": "markdown",
   "id": "51079d7d",
   "metadata": {},
   "source": [
    "<h1>Mid-Term Project</h1>\n",
    "<h3>Instructions</h3>\n",
    "<ul>\n",
    "<li>Complete the data ingestion, exploration, and wrangling process by:\n",
    "    <ul>\n",
    "        <li>Identifying 5 features in the data that is problematic and the solutions to resolve it</li>\n",
    "        <li>Provide 5 steps for standardizing the dataset</li>\n",
    "        <li>Create a short PowerPoint slide to showcase your work</li>\n",
    "        <li>The PowerPoint should be between 5-15 slides. A PowerPoint template will be provided:\n",
    "            <ul>\n",
    "                <li>Provide a description and context of the dataset</li>\n",
    "                <li>Highlight the work done on the dataset</li>\n",
    "                <li>Provide an assessment of the data quality before and after</li>\n",
    "                <li>Provide your recommendation of the data. Whether others should or should use the data</li>\n",
    "            </ul>\n",
    "          </li>\n",
    "    </ul>\n",
    "        </li>\n",
    "    <li>Submission:\n",
    "            <ul>\n",
    "                <li>A working Jupyter notebook that showcase all the steps done to the data and a PowerPoint slide deck</li>\n",
    "                <li>The project will be graded by your team member. Each team member will grade 2 projects that are not their own. The midterm project grade will be an average of the 2 scores. A rubric will be provided to help with the scoring.</li>\n",
    "            </ul>\n",
    "    </li>"
   ]
  },
  {
   "cell_type": "code",
   "execution_count": null,
   "id": "fd4767e0",
   "metadata": {},
   "outputs": [],
   "source": [
    "%%time \n",
    "import os  \n",
    "import pandas as pd  \n",
    "import numpy as np \n",
    "import pyodbc\n",
    "import matplotlib.pyplot as plt\n",
    "import pickle\n",
    "from unicodedata import normalize\n",
    "from IPython.display import HTML\n",
    "from datetime import datetime, date\n",
    "\n",
    "\n",
    "class loc:\n",
    "    d0 = os.getcwd() + '\\\\'  \n",
    "    d1 = d0 + 'Exercises\\\\Mid_Term_Project\\\\'\n",
    "    pdr = '\\\\\\\\clinisilonhh\\\\ifs\\\\PHI_Access\\\\PHI-CO - DSci Nhan Tran\\\\ENT9521 Python Curriculum\\\\data\\\\'\n",
    "    \n",
    "print(loc.d1)"
   ]
  },
  {
   "cell_type": "code",
   "execution_count": null,
   "id": "f6a559c1",
   "metadata": {},
   "outputs": [],
   "source": [
    "%%time \n",
    "\n",
    "#read the mid-term dataset\n",
    "with open(loc.pdr + 'midterm_dataset.pkl', 'rb') as f:\n",
    "    MyMidData = pickle.load(f)\n",
    "    \n",
    "    display(MyMidData)"
   ]
  },
  {
   "cell_type": "code",
   "execution_count": null,
   "id": "445fec33",
   "metadata": {},
   "outputs": [],
   "source": [
    "%%time \n",
    "\n",
    "MyMidData.info()"
   ]
  },
  {
   "cell_type": "markdown",
   "id": "c51e9060",
   "metadata": {},
   "source": [
    "<h1>Problems in this Dataset</h1>\n",
    "<ol>\n",
    "<li>Dataset datatypes should align with the values</li>\n",
    "<li>It will be better if Zip code has only 5 digits - so it needs cleaning</li>\n",
    "<li>Ethinicity column has a room for improvement - to make it precise and clean</li>\n",
    "<li>It will be helpful if We have Patient Age in the Dataset</li>\n",
    "<li>Vizient_Sub_Service_Line can be splitted into Vizient_Service_Line and Sub Service_Line</li>\n",
    "<li>It will be more helpful if Vizient MSDRG is splitted into code and description</li>\n",
    "<li>The categorical variables such as Ethnicity, Sex, Race, and SECTION need to be converted into Dummy Variables to make this Dataset ready for Advanced Statistical Analysis</li>   \n",
    "</ol>"
   ]
  },
  {
   "cell_type": "markdown",
   "id": "144bc64d",
   "metadata": {},
   "source": [
    "<h1>Solutions to the Identified Problems: Dataset Standardization</h1>"
   ]
  },
  {
   "cell_type": "code",
   "execution_count": null,
   "id": "73671d5f",
   "metadata": {},
   "outputs": [],
   "source": [
    "%%time \n",
    "\n",
    "#Convert DATABASEID to int\n",
    "#First, let me create a copy of the original dataset\n",
    "#This will keep the original dataset unaffected by the changes I make to standardize the data\n",
    "MyStandardData = MyMidData.copy()\n",
    "\n",
    "MyStandardData.loc[:, ['DATABASEID']] = (MyStandardData.loc[:, ['DATABASEID']]).astype('int64')\n",
    "\n",
    "#for example, see the comparison below\n",
    "print('Before')\n",
    "MyMidData.loc[:, ['DATABASEID']].info()\n",
    "print('\\n')\n",
    "\n",
    "print('After')\n",
    "MyStandardData.loc[:, ['DATABASEID']].info()"
   ]
  },
  {
   "cell_type": "code",
   "execution_count": null,
   "id": "7f042925",
   "metadata": {},
   "outputs": [],
   "source": [
    "%%time \n",
    "\n",
    "#Convert AdmissionDsate and DischargeDate to date\n",
    "#Since the simple pd.to_datetime() is showing errors for the date format we have in the dataset, \n",
    "#I have used another workaround as follows:\n",
    "MyStandardData.loc[:, ['ADMISSIONDATE', 'DISCHARGEDATE']] = pd.to_datetime((MyStandardData.loc[:, ['ADMISSIONDATE', 'DISCHARGEDATE']]).stack()).unstack()\n",
    "\n",
    "MyStandardData.loc[:, ['ADMISSIONDATE', 'DISCHARGEDATE']].info()"
   ]
  },
  {
   "cell_type": "code",
   "execution_count": null,
   "id": "976fb0ea",
   "metadata": {},
   "outputs": [],
   "source": [
    "%%time \n",
    "\n",
    "#Clean Zip Code to have only the first five digits but keep the data type as object\n",
    "MyStandardData.loc[:, ('ZIPCODE')] = (MyStandardData.loc[:, ('ZIPCODE')]).str[:5]\n",
    "\n",
    "print(\"Zip code before cleaning\")\n",
    "display(MyMidData.loc[:, ('ZIPCODE')].head())\n",
    "print('\\n')\n",
    "\n",
    "print(\"Zip code after cleaning\")\n",
    "display(MyStandardData.loc[:, ('ZIPCODE')].head())"
   ]
  },
  {
   "cell_type": "code",
   "execution_count": null,
   "id": "e7780bd0",
   "metadata": {},
   "outputs": [],
   "source": [
    "# Cheking the progress\n",
    "print('Before Standardization:')\n",
    "display(MyMidData.iloc[:,0:6].head())\n",
    "print('\\n')\n",
    "\n",
    "print('After Standardization')\n",
    "display(MyStandardData.iloc[:,0:6].head())\n",
    "print('\\n')\n",
    "\n",
    "print('Datatypes Before Standardization:')\n",
    "MyMidData.iloc[:,0:6].info()\n",
    "print('\\n')\n",
    "\n",
    "print('Datatypes After Standardization:')\n",
    "MyStandardData.iloc[:,0:6].info()"
   ]
  },
  {
   "cell_type": "code",
   "execution_count": null,
   "id": "120d618c",
   "metadata": {},
   "outputs": [],
   "source": [
    "%%time \n",
    "\n",
    "#Let's see the unique values in ethnicity\n",
    "print('Ethnicity unique values before cleaning')\n",
    "display(MyStandardData.loc[:, ('ETHNICITY')].unique())\n",
    "print('\\n')\n",
    "\n",
    "#I want to replace the ' Origin' part with nothing because I believe that is just an extra information\n",
    "print('Ethnicity unique values after cleaning')\n",
    "MyStandardData.loc[:, ('ETHNICITY')] = MyStandardData.loc[:, ('ETHNICITY')].str.replace(' Origin', '')\n",
    "\n",
    "display(MyStandardData.loc[:, ('ETHNICITY')].unique())"
   ]
  },
  {
   "cell_type": "code",
   "execution_count": null,
   "id": "d10d74e0",
   "metadata": {},
   "outputs": [],
   "source": [
    "%%time \n",
    "\n",
    "#Let's see the unique values in the Sex column\n",
    "print('Sex column unique values')\n",
    "display(MyStandardData.loc[:, ('SEX')].unique())\n",
    "print('\\n')\n",
    "\n",
    "#Let's see the unique values in the Race column\n",
    "print('Race column unique values')\n",
    "display(MyStandardData.loc[:, ('RACE')].unique())\n",
    "print('\\n')\n",
    "\n",
    "#Let's see the unique values in the Race column\n",
    "print('DEATHFLAG column unique values')\n",
    "display(MyStandardData.loc[:, ('DEATHFLAG')].unique())\n",
    "print('\\n')"
   ]
  },
  {
   "cell_type": "code",
   "execution_count": null,
   "id": "028e4b6b",
   "metadata": {},
   "outputs": [],
   "source": [
    "%%time \n",
    "\n",
    "#converting the birthdate column into datetime datatype, converting the DEATHFLAG column into int\n",
    "MyStandardData.loc[:, ['BIRTHDATE']] = pd.to_datetime((MyStandardData.loc[:, ['BIRTHDATE']]).stack()).unstack()\n",
    "\n",
    "MyStandardData.loc[:, ['DEATHFLAG']] = (MyStandardData.loc[:, ['DEATHFLAG']]).astype('int64')\n",
    "\n",
    "MyStandardData.loc[:, ['BIRTHDATE', 'DEATHFLAG']].info()"
   ]
  },
  {
   "cell_type": "code",
   "execution_count": null,
   "id": "d7c45054",
   "metadata": {},
   "outputs": [],
   "source": [
    "%%time \n",
    "\n",
    "#To calculate the patients age when they first admit to the hospital\n",
    "#I need to have the year, month and day extracted from both columns first\n",
    "#And, I am using the standardized columns\n",
    "\n",
    "MyStandardData['ADMISSIONYEAR'] = MyStandardData['ADMISSIONDATE'].dt.year\n",
    "MyStandardData['ADMISSIONMONTH'] = MyStandardData['ADMISSIONDATE'].dt.month\n",
    "MyStandardData['ADMISSIONDAY'] = MyStandardData['ADMISSIONDATE'].dt.day\n",
    "\n",
    "print('ADMISSION DATE, YEAR, MONTH, AND DAY:')\n",
    "display(MyStandardData[['ADMISSIONDATE', 'ADMISSIONYEAR', 'ADMISSIONMONTH', 'ADMISSIONDAY']].head())\n",
    "print('\\n')\n",
    "\n",
    "MyStandardData['BIRTHYEAR'] = MyStandardData['BIRTHDATE'].dt.year\n",
    "MyStandardData['BIRTHMONTH'] = MyStandardData['BIRTHDATE'].dt.month\n",
    "MyStandardData['BIRTHDAY'] = MyStandardData['BIRTHDATE'].dt.day\n",
    "\n",
    "print('BIRTHDATE, YEAR, MONTH, AND DAY:')\n",
    "display(MyStandardData[['BIRTHDATE', 'BIRTHYEAR', 'BIRTHMONTH', 'BIRTHDAY']].head())"
   ]
  },
  {
   "cell_type": "code",
   "execution_count": null,
   "id": "8094aa04",
   "metadata": {},
   "outputs": [],
   "source": [
    "#Calculating Age\n",
    "#I subtract the birth year from the admission year and then if the admission month have not passed birth month \n",
    "#I subtract one as their birth date is yet to come\n",
    "\n",
    "#MyStandardData.loc[(MyStandardData['ADMISSIONDAY'] < MyStandardData['BIRTHDAY']), 'DayNotPass'] = 1\n",
    "#MyStandardData['MonthAndDayNotPass'] = np.where((MyStandardData['MonthNotPass'] == 1 ) \n",
    "#& (MyStandardData['DayNotPass'] == 1), 1, 0)\n",
    "\n",
    "MyStandardData.loc[(MyStandardData['ADMISSIONMONTH'] < MyStandardData['BIRTHMONTH']), 'MonthNotPass'] = 1\n",
    "\n",
    "MyStandardData['MonthAndDayNotPass'] = np.where(MyStandardData['MonthNotPass'] == 1, 1, 0)\n",
    "\n",
    "MyStandardData['AGE'] = MyStandardData['ADMISSIONYEAR'] - MyStandardData['BIRTHYEAR'] - MyStandardData['MonthAndDayNotPass']\n",
    "\n",
    "display(MyStandardData[['ADMISSIONDATE', 'BIRTHDATE', 'AGE']].head())"
   ]
  },
  {
   "cell_type": "code",
   "execution_count": null,
   "id": "9921e2f6",
   "metadata": {},
   "outputs": [],
   "source": [
    "#Splitting the VIZIENT_SUB_SERVICELINE column into VIZIENT_SERVICELINE and SUB_SERVICELINE \n",
    "VizServiceLine = MyStandardData.loc[:, ('VIZIENT_SUB_SERVICELINE')].str.split('-', expand=True);\n",
    "MyStandardData['VIZ_SERVICELINE'] = VizServiceLine[0];\n",
    "MyStandardData['VIZ_SUB_SERVICELINE'] = VizServiceLine[1];\n",
    "\n",
    "display(MyStandardData.head());"
   ]
  },
  {
   "cell_type": "code",
   "execution_count": null,
   "id": "f51a006a",
   "metadata": {},
   "outputs": [],
   "source": [
    "#Let me concatenate what I standardized so far\n",
    "#MySubMidData2 = pd.concat([MySubMidData1, MyDateData12, MyFloatData1, MyDataZip], axis = 1, join='outer', ignore_index=False)"
   ]
  },
  {
   "cell_type": "code",
   "execution_count": null,
   "id": "1c5e1d2b",
   "metadata": {
    "scrolled": true
   },
   "outputs": [],
   "source": [
    "#Splitting the VIZIENT_MSDRG column into VIZIENT_MSDRG_CODE and VIZIENT_MSDRG_CODE_DESCRIPTION\n",
    "VIZIENT_MSDRG_C_AND_DESC = MyStandardData.loc[:, ('VIZIENT_MSDRG')].str.split(':', expand=True);\n",
    "MyStandardData['VIZIENT_MSDRG_CODE'] = VIZIENT_MSDRG_C_AND_DESC[0];\n",
    "MyStandardData['VIZIENT_MSDRG_CODE_DESCRIPTION'] = VIZIENT_MSDRG_C_AND_DESC[1];\n",
    "\n",
    "display(MyStandardData.head());"
   ]
  },
  {
   "cell_type": "code",
   "execution_count": null,
   "id": "ecc118bb",
   "metadata": {},
   "outputs": [],
   "source": [
    "MyStandardData.info()"
   ]
  },
  {
   "cell_type": "code",
   "execution_count": null,
   "id": "d06e4762",
   "metadata": {},
   "outputs": [],
   "source": [
    "#Dropping the columns thast were created for calculation purposes, and storing the data into a new dataframe\n",
    "#I do not want to replace the standardized dataset to avoid any potential errors when I run it again\n",
    "MyStandardData21 = MyStandardData.drop(columns=['VIZIENT_SUB_SERVICELINE', 'VIZIENT_MSDRG', 'ADMISSIONYEAR', 'ADMISSIONMONTH', 'ADMISSIONDAY', 'BIRTHYEAR', 'BIRTHMONTH', 'BIRTHDAY', 'MonthNotPass', 'MonthAndDayNotPass'])\n",
    "MyStandardData21.info();\n",
    "\n",
    "MyStandardData21.loc[0:21, ['VIZ_SERVICELINE', 'VIZ_SUB_SERVICELINE']]"
   ]
  },
  {
   "cell_type": "code",
   "execution_count": null,
   "id": "ed14ea3b",
   "metadata": {},
   "outputs": [],
   "source": [
    "#creating dummy variables\n",
    "#Before i do that, let me check the categorial variables I have, and their unique values\n",
    "\n",
    "#Let's see the unique values in the Sex column\n",
    "print('ETHNICITY column unique values')\n",
    "display(MyStandardData21.loc[:, ('ETHNICITY')].unique())\n",
    "print('\\n')\n",
    "\n",
    "#Let's see the unique values in the Race column\n",
    "print(' SEX column unique values')\n",
    "display(MyStandardData21.loc[:, ('SEX')].unique())\n",
    "print('\\n')\n",
    "\n",
    "#Let's see the unique values in the Race column\n",
    "print('RACE column unique values')\n",
    "display(MyStandardData21.loc[:, ('RACE')].unique())\n",
    "print('\\n')\n",
    "\n",
    "print('SECTION column unique values')\n",
    "display(MyStandardData21.loc[:, ('SECTION')].unique())\n",
    "print('\\n')\n",
    "\n",
    "print('VIZ_SERVICELINE column unique values')\n",
    "display(MyStandardData21.loc[:, ('VIZ_SERVICELINE')].unique())\n",
    "print('\\n')"
   ]
  },
  {
   "cell_type": "code",
   "execution_count": null,
   "id": "e5d38bfe",
   "metadata": {},
   "outputs": [],
   "source": [
    "#As I can see from the above unique values: \n",
    "#I am not going to create dummy variables for VIZ_SERVICELINE column as it is going to be too much information\n",
    "#I will replace 'Hispanic Unknown' by 'Unknown' for convenience\n",
    "#I will replace Non Hispanic' by 'Non_Hispanic' for convenience\n",
    "#I will replace 'Unavailable' in Race column by 'Unknown' for convenience \n",
    "\n",
    "MyStandardData21.loc[:, ('ETHNICITY')] = MyStandardData21.loc[:, ('ETHNICITY')].str.replace('Hispanic Unknown', 'Unknown');\n",
    "MyStandardData21.loc[:, ('ETHNICITY')] = MyStandardData21.loc[:, ('ETHNICITY')].str.replace('Non Hispanic', 'Non_Hispanic');\n",
    "MyStandardData21.loc[:, ('RACE')] = MyStandardData21.loc[:, ('RACE')].str.replace('Unavailable', 'Unknown');\n",
    "\n",
    "\n",
    "#lET'S SEE THE UNIQUE VALUES IN THE CATEGORICAL  VARIABLES NOW\n",
    "\n",
    "#Let's see the unique values in the Sex column\n",
    "print('ETHNICITY column unique values')\n",
    "display(MyStandardData21.loc[:, ('ETHNICITY')].unique())\n",
    "print('\\n')\n",
    "\n",
    "#Let's see the unique values in the Race column\n",
    "print(' SEX column unique values')\n",
    "display(MyStandardData21.loc[:, ('SEX')].unique())\n",
    "print('\\n')\n",
    "\n",
    "#Let's see the unique values in the Race column\n",
    "print('RACE column unique values')\n",
    "display(MyStandardData21.loc[:, ('RACE')].unique())\n",
    "print('\\n')\n",
    "\n",
    "print('SECTION column unique values')\n",
    "display(MyStandardData21.loc[:, ('SECTION')].unique())\n",
    "print('\\n')"
   ]
  },
  {
   "cell_type": "code",
   "execution_count": null,
   "id": "d0a149ae",
   "metadata": {},
   "outputs": [],
   "source": [
    "#Let's drop missing values as imputing data is not recomended in clinical data \n",
    "MyStandardData3 = MyStandardData21.dropna()\n",
    "\n",
    "#Let's see how many records we dropped due to missing values \n",
    "print('Before dropping missing values:')\n",
    "MyStandardData21.info()\n",
    "print('\\n')\n",
    "\n",
    "print('After dropping missing values:')\n",
    "MyStandardData3.info()\n",
    "print('\\n')\n",
    "\n",
    "print('Dropped records:', 780842-773332) #RangeIndex Before dropping minus RangeIndex after dropping"
   ]
  },
  {
   "cell_type": "code",
   "execution_count": null,
   "id": "878db41e",
   "metadata": {},
   "outputs": [],
   "source": [
    "#First let's see what our categorical variables look like\n",
    "display(MyStandardData3.loc[0:10, ['SEX', 'ETHNICITY', 'RACE', 'SECTION']])"
   ]
  },
  {
   "cell_type": "code",
   "execution_count": null,
   "id": "3bba3ebf",
   "metadata": {},
   "outputs": [],
   "source": [
    "#Let's get the Dummies now -- Yayy!\n",
    "MyStandardData4 = MyStandardData3.copy();\n",
    "\n",
    "MyStandardData4 = pd.get_dummies(MyStandardData4, columns = ['SEX', 'ETHNICITY', 'RACE', 'SECTION']);\n",
    "\n",
    "display(MyStandardData4);"
   ]
  },
  {
   "cell_type": "code",
   "execution_count": null,
   "id": "23f87d92",
   "metadata": {},
   "outputs": [],
   "source": [
    "display(MyStandardData4.iloc[0:11, 14:])"
   ]
  },
  {
   "cell_type": "code",
   "execution_count": null,
   "id": "0ab54eff",
   "metadata": {},
   "outputs": [],
   "source": [
    "#Alright, let's describe the Dataset\n",
    "display(MyStandardData4.describe())"
   ]
  },
  {
   "cell_type": "code",
   "execution_count": null,
   "id": "94f41e8a",
   "metadata": {},
   "outputs": [],
   "source": []
  }
 ],
 "metadata": {
  "kernelspec": {
   "display_name": "Python 3",
   "language": "python",
   "name": "python3"
  },
  "language_info": {
   "codemirror_mode": {
    "name": "ipython",
    "version": 3
   },
   "file_extension": ".py",
   "mimetype": "text/x-python",
   "name": "python",
   "nbconvert_exporter": "python",
   "pygments_lexer": "ipython3",
   "version": "3.8.8"
  }
 },
 "nbformat": 4,
 "nbformat_minor": 5
}
